{
 "cells": [
  {
   "cell_type": "code",
   "execution_count": 8,
   "metadata": {
    "id": "P3P9Ys9JcnNo"
   },
   "outputs": [],
   "source": [
    "import pandas as pd\n",
    "import numpy as np\n",
    "import matplotlib.pyplot as plt\n",
    "import requests\n",
    "import re\n",
    "import openpyxl\n",
    "#import xlsxwriter\n",
    "pd.set_option(\"display.max_rows\", None, \"display.max_columns\", None)"
   ]
  },
  {
   "cell_type": "code",
   "execution_count": 9,
   "metadata": {
    "colab": {
     "base_uri": "https://localhost:8080/",
     "height": 244
    },
    "id": "F_aojJG5cnNw",
    "outputId": "37882d5b-bc03-47de-b435-ae80244654cf"
   },
   "outputs": [
    {
     "data": {
      "text/html": [
       "<div>\n",
       "<style scoped>\n",
       "    .dataframe tbody tr th:only-of-type {\n",
       "        vertical-align: middle;\n",
       "    }\n",
       "\n",
       "    .dataframe tbody tr th {\n",
       "        vertical-align: top;\n",
       "    }\n",
       "\n",
       "    .dataframe thead th {\n",
       "        text-align: right;\n",
       "    }\n",
       "</style>\n",
       "<table border=\"1\" class=\"dataframe\">\n",
       "  <thead>\n",
       "    <tr style=\"text-align: right;\">\n",
       "      <th></th>\n",
       "      <th>username</th>\n",
       "      <th>location</th>\n",
       "      <th>profileurl</th>\n",
       "      <th>isdefault</th>\n",
       "      <th>totaltweets</th>\n",
       "      <th>usercreatedts</th>\n",
       "      <th>tweetcreatedts</th>\n",
       "    </tr>\n",
       "  </thead>\n",
       "  <tbody>\n",
       "    <tr>\n",
       "      <th>0</th>\n",
       "      <td>lllmielll</td>\n",
       "      <td>﹙ 𝒽 i  𝒴outh ! ﹚ \\n\\n𝒰 r the only one special\\...</td>\n",
       "      <td>https://pbs.twimg.com/profile_images/145482454...</td>\n",
       "      <td>False</td>\n",
       "      <td>81725</td>\n",
       "      <td>2019-03-29 14:59:43+00:00</td>\n",
       "      <td>2021-10-31 15:08:13+00:00</td>\n",
       "    </tr>\n",
       "    <tr>\n",
       "      <th>1</th>\n",
       "      <td>saddearlly</td>\n",
       "      <td>Seoul</td>\n",
       "      <td>https://pbs.twimg.com/profile_images/145107663...</td>\n",
       "      <td>False</td>\n",
       "      <td>3035</td>\n",
       "      <td>2020-08-24 15:09:44+00:00</td>\n",
       "      <td>2021-10-31 15:08:13+00:00</td>\n",
       "    </tr>\n",
       "    <tr>\n",
       "      <th>2</th>\n",
       "      <td>tiueyycads</td>\n",
       "      <td>NaN</td>\n",
       "      <td>https://pbs.twimg.com/profile_images/145372951...</td>\n",
       "      <td>False</td>\n",
       "      <td>1040</td>\n",
       "      <td>2021-07-07 09:47:38+00:00</td>\n",
       "      <td>2021-10-31 15:08:13+00:00</td>\n",
       "    </tr>\n",
       "    <tr>\n",
       "      <th>3</th>\n",
       "      <td>amee_2003</td>\n",
       "      <td>المملكة العربية السعودية</td>\n",
       "      <td>https://pbs.twimg.com/profile_images/135590960...</td>\n",
       "      <td>False</td>\n",
       "      <td>10259</td>\n",
       "      <td>2021-01-31 14:18:52+00:00</td>\n",
       "      <td>2021-10-31 15:08:13+00:00</td>\n",
       "    </tr>\n",
       "  </tbody>\n",
       "</table>\n",
       "</div>"
      ],
      "text/plain": [
       "     username                                           location  \\\n",
       "0   lllmielll  ﹙ 𝒽 i  𝒴outh ! ﹚ \\n\\n𝒰 r the only one special\\...   \n",
       "1  saddearlly                                             Seoul    \n",
       "2  tiueyycads                                                NaN   \n",
       "3   amee_2003                           المملكة العربية السعودية   \n",
       "\n",
       "                                          profileurl  isdefault  totaltweets  \\\n",
       "0  https://pbs.twimg.com/profile_images/145482454...      False        81725   \n",
       "1  https://pbs.twimg.com/profile_images/145107663...      False         3035   \n",
       "2  https://pbs.twimg.com/profile_images/145372951...      False         1040   \n",
       "3  https://pbs.twimg.com/profile_images/135590960...      False        10259   \n",
       "\n",
       "               usercreatedts             tweetcreatedts  \n",
       "0  2019-03-29 14:59:43+00:00  2021-10-31 15:08:13+00:00  \n",
       "1  2020-08-24 15:09:44+00:00  2021-10-31 15:08:13+00:00  \n",
       "2  2021-07-07 09:47:38+00:00  2021-10-31 15:08:13+00:00  \n",
       "3  2021-01-31 14:18:52+00:00  2021-10-31 15:08:13+00:00  "
      ]
     },
     "execution_count": 9,
     "metadata": {},
     "output_type": "execute_result"
    }
   ],
   "source": [
    "df = pd.read_csv(\"./tweets.csv\")\n",
    "df.head(4)"
   ]
  },
  {
   "cell_type": "code",
   "execution_count": 10,
   "metadata": {
    "id": "wlcUa0AqcnN2"
   },
   "outputs": [],
   "source": [
    "urls = df['profileurl'].tolist()\n",
    "names = df['username'].tolist()"
   ]
  },
  {
   "cell_type": "code",
   "execution_count": null,
   "metadata": {
    "id": "eCa_igHacnN3"
   },
   "outputs": [],
   "source": [
    "i=0;\n",
    "\n",
    "for url in urls:\n",
    "  try:\n",
    "\n",
    "    #url = 'https://pbs.twimg.com/profile_images/1454824548155551748/2EN9OKHD_normal.jpg'\n",
    "    r = requests.get(url, allow_redirects=True)\n",
    "\n",
    "    open(names[i]+'.jpg', 'wb').write(r.content)\n",
    "    i = i+1\n",
    "  \n",
    "  except:\n",
    "    \n",
    "    continue"
   ]
  }
 ],
 "metadata": {
  "colab": {
   "name": "Image_Downloading_Script.ipynb",
   "provenance": []
  },
  "kernelspec": {
   "display_name": "Python 3",
   "language": "python",
   "name": "python3"
  },
  "language_info": {
   "codemirror_mode": {
    "name": "ipython",
    "version": 3
   },
   "file_extension": ".py",
   "mimetype": "text/x-python",
   "name": "python",
   "nbconvert_exporter": "python",
   "pygments_lexer": "ipython3",
   "version": "3.7.4"
  }
 },
 "nbformat": 4,
 "nbformat_minor": 1
}
