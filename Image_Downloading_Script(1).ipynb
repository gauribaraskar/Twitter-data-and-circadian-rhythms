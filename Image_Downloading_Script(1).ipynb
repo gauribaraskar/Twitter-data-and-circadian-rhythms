{
  "nbformat": 4,
  "nbformat_minor": 0,
  "metadata": {
    "kernelspec": {
      "display_name": "Python 3",
      "language": "python",
      "name": "python3"
    },
    "language_info": {
      "codemirror_mode": {
        "name": "ipython",
        "version": 3
      },
      "file_extension": ".py",
      "mimetype": "text/x-python",
      "name": "python",
      "nbconvert_exporter": "python",
      "pygments_lexer": "ipython3",
      "version": "3.7.4"
    },
    "colab": {
      "name": "Image_Downloading_Script.ipynb",
      "provenance": []
    }
  },
  "cells": [
    {
      "cell_type": "code",
      "metadata": {
        "id": "P3P9Ys9JcnNo"
      },
      "source": [
        "import pandas as pd\n",
        "import numpy as np\n",
        "import matplotlib.pyplot as plt\n",
        "import requests\n",
        "import re\n",
        "import openpyxl\n",
        "#import xlsxwriter\n",
        "pd.set_option(\"display.max_rows\", None, \"display.max_columns\", None)"
      ],
      "execution_count": 8,
      "outputs": []
    },
    {
      "cell_type": "code",
      "metadata": {
        "colab": {
          "base_uri": "https://localhost:8080/",
          "height": 244
        },
        "id": "F_aojJG5cnNw",
        "outputId": "37882d5b-bc03-47de-b435-ae80244654cf"
      },
      "source": [
        "df = pd.read_csv(\"./tweets.csv\")\n",
        "df.head(4)"
      ],
      "execution_count": 9,
      "outputs": [
        {
          "output_type": "execute_result",
          "data": {
            "text/html": [
              "<div>\n",
              "<style scoped>\n",
              "    .dataframe tbody tr th:only-of-type {\n",
              "        vertical-align: middle;\n",
              "    }\n",
              "\n",
              "    .dataframe tbody tr th {\n",
              "        vertical-align: top;\n",
              "    }\n",
              "\n",
              "    .dataframe thead th {\n",
              "        text-align: right;\n",
              "    }\n",
              "</style>\n",
              "<table border=\"1\" class=\"dataframe\">\n",
              "  <thead>\n",
              "    <tr style=\"text-align: right;\">\n",
              "      <th></th>\n",
              "      <th>username</th>\n",
              "      <th>location</th>\n",
              "      <th>profileurl</th>\n",
              "      <th>isdefault</th>\n",
              "      <th>totaltweets</th>\n",
              "      <th>usercreatedts</th>\n",
              "      <th>tweetcreatedts</th>\n",
              "    </tr>\n",
              "  </thead>\n",
              "  <tbody>\n",
              "    <tr>\n",
              "      <th>0</th>\n",
              "      <td>lllmielll</td>\n",
              "      <td>﹙ 𝒽 i  𝒴outh ! ﹚ \\n\\n𝒰 r the only one special\\...</td>\n",
              "      <td>https://pbs.twimg.com/profile_images/145482454...</td>\n",
              "      <td>False</td>\n",
              "      <td>81725</td>\n",
              "      <td>2019-03-29 14:59:43+00:00</td>\n",
              "      <td>2021-10-31 15:08:13+00:00</td>\n",
              "    </tr>\n",
              "    <tr>\n",
              "      <th>1</th>\n",
              "      <td>saddearlly</td>\n",
              "      <td>Seoul</td>\n",
              "      <td>https://pbs.twimg.com/profile_images/145107663...</td>\n",
              "      <td>False</td>\n",
              "      <td>3035</td>\n",
              "      <td>2020-08-24 15:09:44+00:00</td>\n",
              "      <td>2021-10-31 15:08:13+00:00</td>\n",
              "    </tr>\n",
              "    <tr>\n",
              "      <th>2</th>\n",
              "      <td>tiueyycads</td>\n",
              "      <td>NaN</td>\n",
              "      <td>https://pbs.twimg.com/profile_images/145372951...</td>\n",
              "      <td>False</td>\n",
              "      <td>1040</td>\n",
              "      <td>2021-07-07 09:47:38+00:00</td>\n",
              "      <td>2021-10-31 15:08:13+00:00</td>\n",
              "    </tr>\n",
              "    <tr>\n",
              "      <th>3</th>\n",
              "      <td>amee_2003</td>\n",
              "      <td>المملكة العربية السعودية</td>\n",
              "      <td>https://pbs.twimg.com/profile_images/135590960...</td>\n",
              "      <td>False</td>\n",
              "      <td>10259</td>\n",
              "      <td>2021-01-31 14:18:52+00:00</td>\n",
              "      <td>2021-10-31 15:08:13+00:00</td>\n",
              "    </tr>\n",
              "  </tbody>\n",
              "</table>\n",
              "</div>"
            ],
            "text/plain": [
              "     username                                           location  \\\n",
              "0   lllmielll  ﹙ 𝒽 i  𝒴outh ! ﹚ \\n\\n𝒰 r the only one special\\...   \n",
              "1  saddearlly                                             Seoul    \n",
              "2  tiueyycads                                                NaN   \n",
              "3   amee_2003                           المملكة العربية السعودية   \n",
              "\n",
              "                                          profileurl  isdefault  totaltweets  \\\n",
              "0  https://pbs.twimg.com/profile_images/145482454...      False        81725   \n",
              "1  https://pbs.twimg.com/profile_images/145107663...      False         3035   \n",
              "2  https://pbs.twimg.com/profile_images/145372951...      False         1040   \n",
              "3  https://pbs.twimg.com/profile_images/135590960...      False        10259   \n",
              "\n",
              "               usercreatedts             tweetcreatedts  \n",
              "0  2019-03-29 14:59:43+00:00  2021-10-31 15:08:13+00:00  \n",
              "1  2020-08-24 15:09:44+00:00  2021-10-31 15:08:13+00:00  \n",
              "2  2021-07-07 09:47:38+00:00  2021-10-31 15:08:13+00:00  \n",
              "3  2021-01-31 14:18:52+00:00  2021-10-31 15:08:13+00:00  "
            ]
          },
          "metadata": {},
          "execution_count": 9
        }
      ]
    },
    {
      "cell_type": "code",
      "metadata": {
        "id": "wlcUa0AqcnN2"
      },
      "source": [
        "urls = df['profileurl'].tolist()\n",
        "names = df['username'].tolist()"
      ],
      "execution_count": 10,
      "outputs": []
    },
    {
      "cell_type": "code",
      "metadata": {
        "colab": {
          "base_uri": "https://localhost:8080/"
        },
        "id": "JzCf7lazg0Us",
        "outputId": "e33a748f-dcdf-4b56-a4f0-75a253afb7d4"
      },
      "source": [
        "df.dtypes"
      ],
      "execution_count": null,
      "outputs": [
        {
          "output_type": "execute_result",
          "data": {
            "text/plain": [
              "username          object\n",
              "location          object\n",
              "profileurl        object\n",
              "isdefault           bool\n",
              "totaltweets        int64\n",
              "usercreatedts     object\n",
              "tweetcreatedts    object\n",
              "dtype: object"
            ]
          },
          "metadata": {},
          "execution_count": 17
        }
      ]
    },
    {
      "cell_type": "code",
      "metadata": {
        "colab": {
          "base_uri": "https://localhost:8080/"
        },
        "id": "aOcsFSPzhf4y",
        "outputId": "1b418b48-ace4-43e2-b011-0265f6442b7d"
      },
      "source": [
        "df['profileurl'] = df['profileurl'].astype(\"|S\")\n",
        "\n",
        "df.dtypes"
      ],
      "execution_count": 6,
      "outputs": [
        {
          "output_type": "execute_result",
          "data": {
            "text/plain": [
              "username          object\n",
              "location          object\n",
              "profileurl         |S183\n",
              "isdefault           bool\n",
              "totaltweets        int64\n",
              "usercreatedts     object\n",
              "tweetcreatedts    object\n",
              "dtype: object"
            ]
          },
          "metadata": {},
          "execution_count": 6
        }
      ]
    },
    {
      "cell_type": "code",
      "metadata": {
        "colab": {
          "base_uri": "https://localhost:8080/",
          "height": 298
        },
        "id": "nWEVCquw-O4V",
        "outputId": "742ba80d-19a7-4310-ea56-42e97d6bcea8"
      },
      "source": [
        ""
      ],
      "execution_count": 7,
      "outputs": [
        {
          "output_type": "error",
          "ename": "AttributeError",
          "evalue": "ignored",
          "traceback": [
            "\u001b[0;31m---------------------------------------------------------------------------\u001b[0m",
            "\u001b[0;31mAttributeError\u001b[0m                            Traceback (most recent call last)",
            "\u001b[0;32m<ipython-input-7-1d1afd6b6222>\u001b[0m in \u001b[0;36m<module>\u001b[0;34m()\u001b[0m\n\u001b[0;32m----> 1\u001b[0;31m \u001b[0mpokemon_games\u001b[0m \u001b[0;34m=\u001b[0m \u001b[0mdf\u001b[0m\u001b[0;34m.\u001b[0m\u001b[0mloc\u001b[0m\u001b[0;34m[\u001b[0m\u001b[0mdf\u001b[0m\u001b[0;34m[\u001b[0m\u001b[0;34m'profileurl'\u001b[0m\u001b[0;34m]\u001b[0m\u001b[0;34m.\u001b[0m\u001b[0mcontains\u001b[0m\u001b[0;34m(\u001b[0m\u001b[0;34m\"http\"\u001b[0m\u001b[0;34m,\u001b[0m \u001b[0mcase\u001b[0m\u001b[0;34m=\u001b[0m\u001b[0;32mFalse\u001b[0m\u001b[0;34m)\u001b[0m\u001b[0;34m]\u001b[0m\u001b[0;34m\u001b[0m\u001b[0;34m\u001b[0m\u001b[0m\n\u001b[0m",
            "\u001b[0;32m/usr/local/lib/python3.7/dist-packages/pandas/core/generic.py\u001b[0m in \u001b[0;36m__getattr__\u001b[0;34m(self, name)\u001b[0m\n\u001b[1;32m   5139\u001b[0m             \u001b[0;32mif\u001b[0m \u001b[0mself\u001b[0m\u001b[0;34m.\u001b[0m\u001b[0m_info_axis\u001b[0m\u001b[0;34m.\u001b[0m\u001b[0m_can_hold_identifiers_and_holds_name\u001b[0m\u001b[0;34m(\u001b[0m\u001b[0mname\u001b[0m\u001b[0;34m)\u001b[0m\u001b[0;34m:\u001b[0m\u001b[0;34m\u001b[0m\u001b[0;34m\u001b[0m\u001b[0m\n\u001b[1;32m   5140\u001b[0m                 \u001b[0;32mreturn\u001b[0m \u001b[0mself\u001b[0m\u001b[0;34m[\u001b[0m\u001b[0mname\u001b[0m\u001b[0;34m]\u001b[0m\u001b[0;34m\u001b[0m\u001b[0;34m\u001b[0m\u001b[0m\n\u001b[0;32m-> 5141\u001b[0;31m             \u001b[0;32mreturn\u001b[0m \u001b[0mobject\u001b[0m\u001b[0;34m.\u001b[0m\u001b[0m__getattribute__\u001b[0m\u001b[0;34m(\u001b[0m\u001b[0mself\u001b[0m\u001b[0;34m,\u001b[0m \u001b[0mname\u001b[0m\u001b[0;34m)\u001b[0m\u001b[0;34m\u001b[0m\u001b[0;34m\u001b[0m\u001b[0m\n\u001b[0m\u001b[1;32m   5142\u001b[0m \u001b[0;34m\u001b[0m\u001b[0m\n\u001b[1;32m   5143\u001b[0m     \u001b[0;32mdef\u001b[0m \u001b[0m__setattr__\u001b[0m\u001b[0;34m(\u001b[0m\u001b[0mself\u001b[0m\u001b[0;34m,\u001b[0m \u001b[0mname\u001b[0m\u001b[0;34m:\u001b[0m \u001b[0mstr\u001b[0m\u001b[0;34m,\u001b[0m \u001b[0mvalue\u001b[0m\u001b[0;34m)\u001b[0m \u001b[0;34m->\u001b[0m \u001b[0;32mNone\u001b[0m\u001b[0;34m:\u001b[0m\u001b[0;34m\u001b[0m\u001b[0;34m\u001b[0m\u001b[0m\n",
            "\u001b[0;31mAttributeError\u001b[0m: 'Series' object has no attribute 'contains'"
          ]
        }
      ]
    },
    {
      "cell_type": "code",
      "metadata": {
        "colab": {
          "base_uri": "https://localhost:8080/"
        },
        "id": "DqIGc1BSjnb5",
        "outputId": "93674190-af5f-4383-df18-c450fdbf4a4a"
      },
      "source": [
        "df['profileurl'].isnull().sum()"
      ],
      "execution_count": null,
      "outputs": [
        {
          "output_type": "execute_result",
          "data": {
            "text/plain": [
              "0"
            ]
          },
          "metadata": {},
          "execution_count": 20
        }
      ]
    },
    {
      "cell_type": "code",
      "metadata": {
        "colab": {
          "base_uri": "https://localhost:8080/",
          "height": 244
        },
        "id": "PRSaJnVMht_e",
        "outputId": "9c5d96a2-4fec-4b78-a1e2-ffb9ddc80c50"
      },
      "source": [
        "df.head(4)"
      ],
      "execution_count": null,
      "outputs": [
        {
          "output_type": "execute_result",
          "data": {
            "text/html": [
              "<div>\n",
              "<style scoped>\n",
              "    .dataframe tbody tr th:only-of-type {\n",
              "        vertical-align: middle;\n",
              "    }\n",
              "\n",
              "    .dataframe tbody tr th {\n",
              "        vertical-align: top;\n",
              "    }\n",
              "\n",
              "    .dataframe thead th {\n",
              "        text-align: right;\n",
              "    }\n",
              "</style>\n",
              "<table border=\"1\" class=\"dataframe\">\n",
              "  <thead>\n",
              "    <tr style=\"text-align: right;\">\n",
              "      <th></th>\n",
              "      <th>username</th>\n",
              "      <th>location</th>\n",
              "      <th>profileurl</th>\n",
              "      <th>isdefault</th>\n",
              "      <th>totaltweets</th>\n",
              "      <th>usercreatedts</th>\n",
              "      <th>tweetcreatedts</th>\n",
              "    </tr>\n",
              "  </thead>\n",
              "  <tbody>\n",
              "    <tr>\n",
              "      <th>0</th>\n",
              "      <td>lllmielll</td>\n",
              "      <td>﹙ 𝒽 i  𝒴outh ! ﹚ \\n\\n𝒰 r the only one special\\...</td>\n",
              "      <td>b'https://pbs.twimg.com/profile_images/1454824...</td>\n",
              "      <td>False</td>\n",
              "      <td>81725</td>\n",
              "      <td>2019-03-29 14:59:43+00:00</td>\n",
              "      <td>2021-10-31 15:08:13+00:00</td>\n",
              "    </tr>\n",
              "    <tr>\n",
              "      <th>1</th>\n",
              "      <td>saddearlly</td>\n",
              "      <td>Seoul</td>\n",
              "      <td>b'https://pbs.twimg.com/profile_images/1451076...</td>\n",
              "      <td>False</td>\n",
              "      <td>3035</td>\n",
              "      <td>2020-08-24 15:09:44+00:00</td>\n",
              "      <td>2021-10-31 15:08:13+00:00</td>\n",
              "    </tr>\n",
              "    <tr>\n",
              "      <th>2</th>\n",
              "      <td>tiueyycads</td>\n",
              "      <td>NaN</td>\n",
              "      <td>b'https://pbs.twimg.com/profile_images/1453729...</td>\n",
              "      <td>False</td>\n",
              "      <td>1040</td>\n",
              "      <td>2021-07-07 09:47:38+00:00</td>\n",
              "      <td>2021-10-31 15:08:13+00:00</td>\n",
              "    </tr>\n",
              "    <tr>\n",
              "      <th>3</th>\n",
              "      <td>amee_2003</td>\n",
              "      <td>المملكة العربية السعودية</td>\n",
              "      <td>b'https://pbs.twimg.com/profile_images/1355909...</td>\n",
              "      <td>False</td>\n",
              "      <td>10259</td>\n",
              "      <td>2021-01-31 14:18:52+00:00</td>\n",
              "      <td>2021-10-31 15:08:13+00:00</td>\n",
              "    </tr>\n",
              "  </tbody>\n",
              "</table>\n",
              "</div>"
            ],
            "text/plain": [
              "     username                                           location  \\\n",
              "0   lllmielll  ﹙ 𝒽 i  𝒴outh ! ﹚ \\n\\n𝒰 r the only one special\\...   \n",
              "1  saddearlly                                             Seoul    \n",
              "2  tiueyycads                                                NaN   \n",
              "3   amee_2003                           المملكة العربية السعودية   \n",
              "\n",
              "                                          profileurl  isdefault  totaltweets  \\\n",
              "0  b'https://pbs.twimg.com/profile_images/1454824...      False        81725   \n",
              "1  b'https://pbs.twimg.com/profile_images/1451076...      False         3035   \n",
              "2  b'https://pbs.twimg.com/profile_images/1453729...      False         1040   \n",
              "3  b'https://pbs.twimg.com/profile_images/1355909...      False        10259   \n",
              "\n",
              "               usercreatedts             tweetcreatedts  \n",
              "0  2019-03-29 14:59:43+00:00  2021-10-31 15:08:13+00:00  \n",
              "1  2020-08-24 15:09:44+00:00  2021-10-31 15:08:13+00:00  \n",
              "2  2021-07-07 09:47:38+00:00  2021-10-31 15:08:13+00:00  \n",
              "3  2021-01-31 14:18:52+00:00  2021-10-31 15:08:13+00:00  "
            ]
          },
          "metadata": {},
          "execution_count": 12
        }
      ]
    },
    {
      "cell_type": "code",
      "metadata": {
        "id": "eCa_igHacnN3"
      },
      "source": [
        "i=0;\n",
        "\n",
        "for url in urls:\n",
        "  try:\n",
        "\n",
        "    #url = 'https://pbs.twimg.com/profile_images/1454824548155551748/2EN9OKHD_normal.jpg'\n",
        "    r = requests.get(url, allow_redirects=True)\n",
        "\n",
        "    open(names[i]+'.jpg', 'wb').write(r.content)\n",
        "    i = i+1\n",
        "  \n",
        "  except:\n",
        "    \n",
        "    continue"
      ],
      "execution_count": null,
      "outputs": []
    }
  ]
}